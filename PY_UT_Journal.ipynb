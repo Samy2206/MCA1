{
 "cells": [
  {
   "cell_type": "code",
   "execution_count": 4,
   "id": "a8b43574-aee2-4fb6-9121-f39a51a7546a",
   "metadata": {},
   "outputs": [
    {
     "name": "stdout",
     "output_type": "stream",
     "text": [
      "['Apple', 'Mango', 'Pineapple', 'Banana', 'Orange']\n",
      "After adding new fruit to list: \n",
      "After sorting list: \n",
      "['Apple', 'Banana', 'Mango', 'Orange', 'Pineapple', 'Strawberry']\n",
      "After deleting last fruit\n",
      "['Apple', 'Banana', 'Mango', 'Orange', 'Pineapple']\n"
     ]
    }
   ],
   "source": [
    "# Write a python program for the following -\n",
    "# i)Create list of fruits\n",
    "# ii)Add new fruit in list\n",
    "# iii)sort the list\n",
    "# iv)delete last fruit name from list\n",
    "fruits=['Apple','Mango','Pineapple','Banana','Orange']\n",
    "print(fruits)\n",
    "print(\"After adding new fruit to list: \")\n",
    "fruits.append('Strawberry')\n",
    "print(\"After sorting list: \")\n",
    "fruits.sort()\n",
    "print(fruits)\n",
    "print(\"After deleting last fruit\")\n",
    "fruits.pop()\n",
    "print(fruits)"
   ]
  },
  {
   "cell_type": "code",
   "execution_count": 24,
   "id": "eac47570-d1b0-4fc1-8679-bc7846d907a2",
   "metadata": {},
   "outputs": [
    {
     "name": "stdout",
     "output_type": "stream",
     "text": [
      "['P', 'M', 'D', 'N']\n"
     ]
    }
   ],
   "source": [
    "# Write a program to create new list ‘b’ which contains only initial \n",
    "# letters from given list \n",
    "# A=[‘Pune’,’Mumbai’,’Delhi’,’Nagpur’]\n",
    "A=['Pune','Mumbai','Delhi','Nagpur']\n",
    "# b=[i[0] for i in A]\n",
    "for i in A:\n",
    "    b.append(i[0])\n",
    "print(b)"
   ]
  },
  {
   "cell_type": "code",
   "execution_count": 50,
   "id": "69e7e20e-03f3-4e46-bcd2-cc1699350742",
   "metadata": {},
   "outputs": [
    {
     "name": "stdin",
     "output_type": "stream",
     "text": [
      "Enter name of the student:  Jonhy English\n",
      "Enter obtained marks of Math:  94\n",
      "Enter obtained marks of English:  91\n",
      "Enter obtained marks of Geography:  89\n",
      "Enter obtained marks of History:  78\n",
      "Enter obtained marks of Science:  65\n"
     ]
    },
    {
     "name": "stdout",
     "output_type": "stream",
     "text": [
      "\n",
      "\n",
      "\n",
      "---------------------------------------------------------\n",
      "Name= Jonhy English\n",
      "1.Mathematics-------------------------------------- 94\n",
      "2.English------------------------------------------ 91\n",
      "3.Geography---------------------------------------- 89\n",
      "4.History------------------------------------------ 78\n",
      "5.Science------------------------------------------ 65\n",
      "----------------------------------------------------------\n",
      "Total                                               417\n",
      "Percentage                                          83.40 %\n",
      "Grade                                               A\n"
     ]
    }
   ],
   "source": [
    "# Write a program to display student score card with Student name, \n",
    "# No. of subjects, total Marks, percentage, and grade.\n",
    "class stud_card():\n",
    "    def __init__(self):\n",
    "        self.std_name=input(\"Enter name of the student: \")\n",
    "        self.marks_math=int(input(\"Enter obtained marks of Math: \"))\n",
    "        self.marks_eng=int(input(\"Enter obtained marks of English: \"))\n",
    "        self.marks_geo=int(input(\"Enter obtained marks of Geography: \"))\n",
    "        self.marks_hist=int(input(\"Enter obtained marks of History: \"))\n",
    "        self.marks_sci=int(input(\"Enter obtained marks of Science: \"))\n",
    "        self.total_marks=self.marks_math+self.marks_eng+self.marks_geo+self.marks_hist+self.marks_sci\n",
    "    def perc_grade(self):\n",
    "        return (self.total_marks/500)*100\n",
    "    def grade(self):\n",
    "        if self.perc_grade() >= 90:\n",
    "            return 'A+'\n",
    "        elif self.perc_grade() >= 80:\n",
    "            return 'A'\n",
    "        elif self.perc_grade() >= 70:\n",
    "            return 'B+'\n",
    "        elif self.perc_grade() >= 60:\n",
    "            return 'B'\n",
    "        elif self.perc_grade() >= 50:\n",
    "            return 'C'\n",
    "        elif self.perc_grade() >= 40:\n",
    "            return 'D'\n",
    "        else:\n",
    "            return 'F'\n",
    "    def report(self):\n",
    "        print(\"\\n\\n\")\n",
    "        print(\"---------------------------------------------------------\")\n",
    "        print(\"Name=\",self.std_name)\n",
    "        print(\"1.Mathematics--------------------------------------\",self.marks_math)\n",
    "        print(\"2.English------------------------------------------\",self.marks_eng)\n",
    "        print(\"3.Geography----------------------------------------\",self.marks_geo)\n",
    "        print(\"4.History------------------------------------------\",self.marks_hist)\n",
    "        print(\"5.Science------------------------------------------\",self.marks_sci)\n",
    "        print(\"----------------------------------------------------------\")\n",
    "        print(\"Total                                              \",self.total_marks)\n",
    "        print(\"Percentage                                         \",f\"{self.perc_grade():.2f}\",\"%\")\n",
    "        print(\"Grade                                              \",self.grade())\n",
    "\n",
    "student=stud_card()\n",
    "student.report()"
   ]
  },
  {
   "cell_type": "code",
   "execution_count": 82,
   "id": "c322b93c-7d2e-4b36-8245-871ed800b22d",
   "metadata": {},
   "outputs": [
    {
     "name": "stdout",
     "output_type": "stream",
     "text": [
      "1 3 5 7 9 11 13 15 17 19 \n",
      "\n",
      "23 25 27 29 31 33 35 37 39 \n",
      "\n",
      "43 45 47 49 51 53 55 57 59 \n",
      "\n",
      "63 65 67 69 71 73 75 77 79 \n",
      "\n",
      "83 85 87 89 91 93 95 97 99 "
     ]
    }
   ],
   "source": [
    "# Write a program to print odd numbers between 0 to 100 using \n",
    "# continue statement.\n",
    "for i in range(0,101):\n",
    "    if i%2==0:\n",
    "        continue\n",
    "    if i%20==1 and i!=1:\n",
    "        print(\"\\n\")\n",
    "    else:\n",
    "        print(i,end=\" \")"
   ]
  },
  {
   "cell_type": "code",
   "execution_count": null,
   "id": "312fbe31-34ac-4f10-b8eb-b053e8f7af05",
   "metadata": {},
   "outputs": [],
   "source": []
  },
  {
   "cell_type": "code",
   "execution_count": 72,
   "id": "07f10bf1-31f4-4e34-8a10-f2a473ace814",
   "metadata": {},
   "outputs": [
    {
     "name": "stdout",
     "output_type": "stream",
     "text": [
      "1 3 5 7 9 \n",
      "\n",
      "11 13 15 17 19 \n",
      "\n",
      "21 23 25 27 29 \n",
      "\n",
      "31 33 35 37 39 \n",
      "\n",
      "41 43 45 47 49 \n",
      "\n",
      "51 53 55 57 59 \n",
      "\n",
      "61 63 65 67 69 \n",
      "\n",
      "71 73 75 77 79 \n",
      "\n",
      "81 83 85 87 89 \n",
      "\n",
      "91 93 95 97 99 "
     ]
    }
   ],
   "source": [
    "for i in range(0, 101):  \n",
    "    if i % 2 == 0:  # Skip even numbers\n",
    "        continue\n",
    "    if i % 10 == 1 and i != 1:  # Print a newline for every set of 10 odd numbers\n",
    "        print(\"\\n\")\n",
    "    print(i, end=\" \")  # Print odd numbers in the same line\n"
   ]
  },
  {
   "cell_type": "code",
   "execution_count": null,
   "id": "c308908a-9c80-452a-b5a5-d57428b41a37",
   "metadata": {},
   "outputs": [],
   "source": []
  }
 ],
 "metadata": {
  "kernelspec": {
   "display_name": "Python 3 (ipykernel)",
   "language": "python",
   "name": "python3"
  },
  "language_info": {
   "codemirror_mode": {
    "name": "ipython",
    "version": 3
   },
   "file_extension": ".py",
   "mimetype": "text/x-python",
   "name": "python",
   "nbconvert_exporter": "python",
   "pygments_lexer": "ipython3",
   "version": "3.12.4"
  }
 },
 "nbformat": 4,
 "nbformat_minor": 5
}
