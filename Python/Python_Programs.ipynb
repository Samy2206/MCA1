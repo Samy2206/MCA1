{
 "cells": [
  {
   "cell_type": "code",
   "execution_count": 11,
   "id": "08703a2a-2a92-4243-97c2-dbf98f748add",
   "metadata": {},
   "outputs": [
    {
     "name": "stdin",
     "output_type": "stream",
     "text": [
      "Enter your string mam\n"
     ]
    },
    {
     "name": "stdout",
     "output_type": "stream",
     "text": [
      "String is a palindrome\n"
     ]
    }
   ],
   "source": [
    "#program to check string is palindrome or not\n",
    "data1 = input(\"Enter your string: \")\n",
    "data2 = data1[::-1]\n",
    "if data1==data2:\n",
    "    print(\"String is a palindrome\")\n",
    "else:\n",
    "    print(\"String is not palindrome\")"
   ]
  },
  {
   "cell_type": "code",
   "execution_count": 25,
   "id": "2990a0d8-0a16-4ce1-8dd3-f8a448c348d3",
   "metadata": {},
   "outputs": [
    {
     "name": "stdin",
     "output_type": "stream",
     "text": [
      "Enter your integer number 153\n"
     ]
    },
    {
     "name": "stdout",
     "output_type": "stream",
     "text": [
      "The number is armstrong\n"
     ]
    }
   ],
   "source": [
    "#Create a program to check , number is armstrong or not\n",
    "num = input(\"Enter your integer number\")\n",
    "n = len(num)\n",
    "sum=int(0)\n",
    "for i in num:\n",
    "    temp = int(i)\n",
    "    temp=pow(temp,n)\n",
    "    sum=sum+temp\n",
    "if int(num)==sum:\n",
    "    print(\"The number is armstrong\")\n",
    "else:\n",
    "    print(\"The number is not armstrong\")\n"
   ]
  },
  {
   "cell_type": "code",
   "execution_count": 8,
   "id": "9e0f64b2-d432-4d28-b4a9-37266d7d0b4b",
   "metadata": {},
   "outputs": [
    {
     "name": "stdin",
     "output_type": "stream",
     "text": [
      "Enter Num 1:  10\n",
      "Enter Num2:  20\n"
     ]
    },
    {
     "name": "stdout",
     "output_type": "stream",
     "text": [
      "Multiplication is:  200\n"
     ]
    }
   ],
   "source": [
    "def multi(a,b):\n",
    "    print(\"Multiplication is: \",a*b)\n",
    "\n",
    "a=int(input(\"Enter Num 1: \"))\n",
    "b=int(input(\"Enter Num2: \"))\n",
    "multi(a,b)"
   ]
  },
  {
   "cell_type": "code",
   "execution_count": 10,
   "id": "f4debb65-3ed2-4dc4-9dae-5f2db2bb63fe",
   "metadata": {},
   "outputs": [
    {
     "name": "stdin",
     "output_type": "stream",
     "text": [
      "Enter Num 1:  10\n",
      "Enter Num2:  20\n"
     ]
    },
    {
     "name": "stdout",
     "output_type": "stream",
     "text": [
      "Multiplication is:  200\n"
     ]
    }
   ],
   "source": [
    "class myclass:\n",
    "    a=int(input(\"Enter Num 1: \"))\n",
    "    b=int(input(\"Enter Num2: \"))\n",
    "    def multi(self):\n",
    "        print(\"Multiplication is: \",a*b)\n",
    "\n",
    "demo = myclass()\n",
    "demo.multi()"
   ]
  },
  {
   "cell_type": "code",
   "execution_count": 48,
   "id": "58472862-0682-4f98-9222-e81079fc9b02",
   "metadata": {},
   "outputs": [
    {
     "name": "stdout",
     "output_type": "stream",
     "text": [
      "(10, 202, 30, 40)\n",
      "4\n",
      "10\n",
      "202\n",
      "[10, 30, 40, 202]\n"
     ]
    }
   ],
   "source": [
    "#tuple\n",
    "data=(10,202,30,40)\n",
    "print(data)\n",
    "print(len(data))\n",
    "print(min(data))\n",
    "print(max(data))\n",
    "data2=sorted(data)\n",
    "print(data2)"
   ]
  },
  {
   "cell_type": "code",
   "execution_count": 68,
   "id": "77d26b2f-d35b-450c-b88f-0e85fadee09a",
   "metadata": {},
   "outputs": [
    {
     "name": "stdout",
     "output_type": "stream",
     "text": [
      "{40, 10, 20, 30}  {40, 50, 60, 30}\n",
      "{40, 10, 50, 20, 60, 30}\n",
      "{40, 30}\n",
      "{10, 20}\n",
      "{50, 60}\n"
     ]
    }
   ],
   "source": [
    "#set\n",
    "data1={10,20,30,40}\n",
    "data2={30,40,50,60}\n",
    "print(data1,\"\",data2)\n",
    "print(data1 | data2)    #union\n",
    "print(data1 & data2)    #intersection\n",
    "print(data1 - data2)    #difference\n",
    "print(data2 - data1)    #difference"
   ]
  },
  {
   "cell_type": "code",
   "execution_count": 88,
   "id": "edd1a5d2-98c1-4b0b-b173-4a9f23b307ae",
   "metadata": {},
   "outputs": [
    {
     "name": "stdout",
     "output_type": "stream",
     "text": [
      "{'sam': '10', 'max': '20', 'john': '30'}\n",
      "dict_keys(['sam', 'max', 'john'])\n",
      "dict_values(['10', '20', '30'])\n",
      "{'sam': 100, 'max': '20', 'john': '30'}\n",
      "100\n",
      "300\n",
      "{'sam': 100, 'max': '20', 'john': '30', 'jainy': 300}\n"
     ]
    }
   ],
   "source": [
    "#dict\n",
    "data = {'sam':'10','max':'20','john':'30'}\n",
    "print(data)\n",
    "print(data.keys())\n",
    "print(data.values())\n",
    "data['sam']=100\n",
    "print(data)\n",
    "print(data.get('sam',200))\n",
    "print(data.setdefault('jainy',300))\n",
    "print(data)"
   ]
  },
  {
   "cell_type": "code",
   "execution_count": 103,
   "id": "6f304e31-2e49-4075-b5ee-8c32ac34df4c",
   "metadata": {},
   "outputs": [
    {
     "name": "stdin",
     "output_type": "stream",
     "text": [
      "Enter your ID 10\n",
      "Enter your Name sam\n",
      "Enter your Department IT\n",
      "Enter your Salary 10000\n"
     ]
    },
    {
     "name": "stdout",
     "output_type": "stream",
     "text": [
      "Id= 10\n",
      "Name= sam\n",
      "Department= IT\n",
      "Salary= 10000\n"
     ]
    }
   ],
   "source": [
    "#program to create class and taking user input for attributes and printing values using display()\n",
    "class emp_details:\n",
    "    emp_id=int(input(\"Enter your ID\"))\n",
    "    emp_name=(input(\"Enter your Name\"))\n",
    "    emp_dept=(input(\"Enter your Department\"))\n",
    "    emp_salary=int(input(\"Enter your Salary\"))\n",
    "    def display(self):\n",
    "        print(\"Id=\",self.emp_id)\n",
    "        print(\"Name=\",self.emp_name)\n",
    "        print(\"Department=\",self.emp_dept)\n",
    "        print(\"Salary=\",self.emp_salary)\n",
    "\n",
    "emp = emp_details()\n",
    "emp.display()"
   ]
  },
  {
   "cell_type": "code",
   "execution_count": 5,
   "id": "8d57877c-c086-46cb-8adc-28f3cac9429c",
   "metadata": {},
   "outputs": [
    {
     "name": "stdout",
     "output_type": "stream",
     "text": [
      "array('i', [10, 20, 30, 40, 40, 60])\n",
      "[50 70 90]\n",
      "[10 20 30] ['abc' 'pqr' 'xyz']\n"
     ]
    }
   ],
   "source": [
    "import array as arr\n",
    "import numpy as np\n",
    "\n",
    "data1 = arr.array('i',[10,20,30])\n",
    "data2 = arr.array('i',[40,40,60])\n",
    "print(data1+data2)        #integer type are concatenated\n",
    "\n",
    "data3 = np.array([10,20,30])\n",
    "data4 = np.array([40,50,60])\n",
    "print(data3+data4)        #numpy integer array get added\n",
    "\n",
    "data5 = np.array([10,20,30])\n",
    "data6 = np.array(['abc','pqr','xyz'])\n",
    "print(data5,data6)\n",
    "#print(data5+data6)        #different types of array cannot get concatenated"
   ]
  },
  {
   "cell_type": "code",
   "execution_count": 5,
   "id": "ad7ffe2a-241e-4fca-8f4a-504a53ad182e",
   "metadata": {},
   "outputs": [
    {
     "name": "stdout",
     "output_type": "stream",
     "text": [
      "inserting three values from start\n",
      "20-->10-->None\n",
      "20-->None\n"
     ]
    }
   ],
   "source": [
    "#program to insert new element at begining\n",
    "\n",
    "#create a node with the help of class\n",
    "class Node:\n",
    "    def __init__(self,data):\n",
    "        self.data=data\n",
    "        self.next=None\n",
    "\n",
    "#create a class linkedlist to insert nodes inside the linked list\n",
    "class linkedlist:\n",
    "    def __init__(self):\n",
    "        self.head=None\n",
    "        self.tail=None\n",
    "    def insert_beg(self,data):\n",
    "        newnode=Node(data)\n",
    "        #if linked list is empty\n",
    "        if self.head == None:\n",
    "            self.head=self.tail=newnode\n",
    "        #if linkedlist is not empty\n",
    "        else:\n",
    "            newnode.next=self.head\n",
    "            self.head=newnode\n",
    "\n",
    "\n",
    "    #insert at end\n",
    "    def insert_end(self,data):\n",
    "        newnode=Node(data)\n",
    "        if self.head==None:\n",
    "            self.head=self.tail=newnode\n",
    "        else:\n",
    "            self.tail.next=newnode\n",
    "            self.tail=newnode\n",
    "\n",
    "    #insert at specified location\n",
    "    def insert_specified_loc(self,data,loc):\n",
    "        newnode=Node(data)\n",
    "        if self.head==None:\n",
    "            self.head=self.tail=newnode\n",
    "        elif loc==1:\n",
    "            newnode.next=self.head\n",
    "            self.head=newnode\n",
    "        else:\n",
    "            currentnode=self.head\n",
    "            currentloc=1\n",
    "            while currentnode!=None and currentloc<loc-1:\n",
    "                currentnode=currentnode.next\n",
    "                currentloc=currentloc+1\n",
    "            newnode.next=currentnode.next\n",
    "            currentnode.next=newnode\n",
    "\n",
    "    #delete from beginning\n",
    "    def del_beg(self):\n",
    "        if self.head==None:\n",
    "            print(\"Linked list is empty\")\n",
    "        else:\n",
    "            self.head=self.head.next\n",
    "\n",
    "    #delete from end\n",
    "    def del_end(self):\n",
    "        currentnode=self.head\n",
    "        if currentnode.next==None:\n",
    "            currentnode\n",
    "        while currentnode.next.next!=None:\n",
    "            currentnode=currentnode.next\n",
    "        self.tail=currentnode.next\n",
    "        currentnode.next=None\n",
    "\n",
    "    #delete from specified loc\n",
    "    def del_specified_loc(self,loc):\n",
    "        currentnode=self.head\n",
    "        currentloc=1\n",
    "        if self.head==None:\n",
    "            print(\"Linked list is Empty\")\n",
    "        elif loc==1:\n",
    "            self.head=self.tail=currentnode.next\n",
    "        else:\n",
    "            while currentnode.next!=None and currentloc<loc-1:\n",
    "                currentnode=currentnode.next\n",
    "                currentloc=currentloc+1\n",
    "                \n",
    "            if currentnode.next!=None:\n",
    "                currentnode.next=currentnode.next.next\n",
    "\n",
    "    \n",
    "     #display linkedlist   \n",
    "    def displaylinkedlist(self):\n",
    "        traverse=self.head\n",
    "        while traverse is not None:\n",
    "            print(traverse.data,end=\"-->\")\n",
    "            traverse=traverse.next\n",
    "        print(\"None\")\n",
    "\n",
    "ll=linkedlist()\n",
    "\n",
    "print(\"inserting three values from start\")\n",
    "ll.insert_beg(10)      #inserting three values from start\n",
    "ll.insert_beg(20)\n",
    "# ll.insert_beg(30)\n",
    "# ll.displaylinkedlist()\n",
    "\n",
    "# print(\"inserting two values from end\")\n",
    "# ll.insert_end(60)       #inserting two values from end\n",
    "# ll.insert_end(100)\n",
    "# ll.displaylinkedlist()\n",
    "\n",
    "# print(\"inserting 80 at location 3\")\n",
    "# ll.insert_specified_loc(80,3)     #inserting 80 at location 3\n",
    "# ll.displaylinkedlist()\n",
    "# print(\"inserting 90 at location 3\")\n",
    "# ll.insert_specified_loc(90,4)     #inserting 90 at location 3\n",
    "# ll.displaylinkedlist()\n",
    "\n",
    "# print(\"deleting from beginning\")\n",
    "# ll.del_beg()       #deleting from beginning\n",
    "# ll.displaylinkedlist()\n",
    "\n",
    "# print(\"delete from end\")\n",
    "# ll.del_end()            #delete from end\n",
    "# ll.displaylinkedlist()\n",
    "\n",
    "# print(\"delete from specified loc\")\n",
    "# ll.del_specified_loc(3)     #delete form specified loc\n",
    "# ll.displaylinkedlist()\n",
    "\n",
    "# ll.del_specified_loc(1)     #delete form specified loc\n",
    "ll.displaylinkedlist()\n",
    "ll.del_end()\n",
    "ll.displaylinkedlist()"
   ]
  },
  {
   "cell_type": "code",
   "execution_count": 14,
   "id": "5d65987c-0438-4515-83c3-53aa4aba4645",
   "metadata": {},
   "outputs": [
    {
     "name": "stdin",
     "output_type": "stream",
     "text": [
      "Enter 2 num 1 2\n"
     ]
    },
    {
     "name": "stdout",
     "output_type": "stream",
     "text": [
      "a=1 and b=2\n"
     ]
    }
   ],
   "source": [
    "#program to take multiple inputs from user\n",
    "a,b=[int (x) for x in input(\"Enter 2 num\").split()]\n",
    "print(f\"a={a} and b={b}\")"
   ]
  },
  {
   "cell_type": "code",
   "execution_count": 16,
   "id": "9d691fc0-7770-432c-9d01-2c133ed5a232",
   "metadata": {},
   "outputs": [
    {
     "name": "stdin",
     "output_type": "stream",
     "text": [
      "Enter your full name sanket raju adhav\n"
     ]
    },
    {
     "name": "stdout",
     "output_type": "stream",
     "text": [
      "['sanket', 'raju', 'adhav']\n"
     ]
    }
   ],
   "source": [
    "str = [x for x in input(\"Enter your full name\").split()]\n",
    "print(str)"
   ]
  },
  {
   "cell_type": "code",
   "execution_count": 18,
   "id": "b4306582-4ef1-4ac7-890e-67dc744dbf25",
   "metadata": {},
   "outputs": [
    {
     "name": "stdin",
     "output_type": "stream",
     "text": [
      "Enter your array 1 2 3 4 5 6 7 7\n"
     ]
    },
    {
     "name": "stdout",
     "output_type": "stream",
     "text": [
      "[1, 2, 3, 4, 5, 6, 7, 7]\n"
     ]
    }
   ],
   "source": [
    "arr1 = [int (x) for x in input(\"Enter your array\").split()]\n",
    "print(arr1)"
   ]
  },
  {
   "cell_type": "code",
   "execution_count": 28,
   "id": "3d0d215b-61a0-4b23-9521-a5fd0e52c4b1",
   "metadata": {},
   "outputs": [
    {
     "name": "stdin",
     "output_type": "stream",
     "text": [
      "Enter data:  1 2 3 4;1 2 3;12 34;\n"
     ]
    },
    {
     "name": "stdout",
     "output_type": "stream",
     "text": [
      "[[1, 2, 3, 4], [1, 2, 3], [12, 34], []]\n"
     ]
    }
   ],
   "source": [
    "#row for comma and semicolon for column\n",
    "l1 = [[int (x) for x in y.split()] for y in input(\"Enter data: \").split(\";\")]\n",
    "print(l1)"
   ]
  },
  {
   "cell_type": "code",
   "execution_count": 10,
   "id": "9a96071d-ba1b-47ee-9861-46e4bdd6c01b",
   "metadata": {},
   "outputs": [],
   "source": [
    "def display_array(arr):\n",
    "    print(\"Array elements: \", arr)\n",
    "\n",
    "def insert_element(arr, element):\n",
    "    arr.append(element)\n",
    "    print(f\"Element {element} inserted.\")\n",
    "\n",
    "def delete_element(arr, element):\n",
    "    if element in arr:\n",
    "        arr.remove(element)\n",
    "        print(f\"Element {element} deleted.\")\n",
    "    else:\n",
    "        print(\"Element not found in array.\")\n",
    "\n",
    "def search_element(arr, element):\n",
    "    if element in arr:\n",
    "        print(f\"Element {element} found at index {arr.index(element)}.\")\n",
    "    else:\n",
    "        print(\"Element not found in array.\")\n",
    "\n",
    "def update_element(arr, index, new_value):\n",
    "    if 0 <= index < len(arr):\n",
    "        arr[index] = new_value\n",
    "        print(f\"Element at index {index} updated to {new_value}.\")\n",
    "    else:\n",
    "        print(\"Invalid index.\")\n",
    "\n",
    "def main():\n",
    "    arr = []\n",
    "    while True:\n",
    "        print(\"\\n--- Menu ---\")\n",
    "        print(\"1. Display Array\")\n",
    "        print(\"2. Insert Element\")\n",
    "        print(\"3. Delete Element\")\n",
    "        print(\"4. Search Element\")\n",
    "        print(\"5. Update Element\")\n",
    "        print(\"6. Exit\")\n",
    "        choice = int(input(\"Enter your choice: \"))\n",
    "\n",
    "        if choice == 1:\n",
    "            display_array(arr)\n",
    "        elif choice == 2:\n",
    "            element = int(input(\"Enter element to insert: \"))\n",
    "            insert_element(arr, element)\n",
    "        elif choice == 3:\n",
    "            element = int(input(\"Enter element to delete: \"))\n",
    "            delete_element(arr, element)\n",
    "        elif choice == 4:\n",
    "            element = int(input(\"Enter element to search: \"))\n",
    "            search_element(arr, element)\n",
    "        elif choice == 5:\n",
    "            index = int(input(\"Enter index to update: \"))\n",
    "            new_value = int(input(\"Enter new value: \"))\n",
    "            update_element(arr, index, new_value)\n",
    "        elif choice == 6:\n",
    "            print(\"Exiting program.\")\n",
    "            break\n",
    "        else:\n",
    "            print(\"Invalid choice. Please try again.\")\n",
    "\n",
    "if __name__ == \"insert_element\":\n",
    "    main()"
   ]
  },
  {
   "cell_type": "code",
   "execution_count": null,
   "id": "04e24543-aea0-4dc8-a6b2-fa577d1876db",
   "metadata": {},
   "outputs": [],
   "source": []
  }
 ],
 "metadata": {
  "kernelspec": {
   "display_name": "Python 3 (ipykernel)",
   "language": "python",
   "name": "python3"
  },
  "language_info": {
   "codemirror_mode": {
    "name": "ipython",
    "version": 3
   },
   "file_extension": ".py",
   "mimetype": "text/x-python",
   "name": "python",
   "nbconvert_exporter": "python",
   "pygments_lexer": "ipython3",
   "version": "3.12.4"
  }
 },
 "nbformat": 4,
 "nbformat_minor": 5
}
