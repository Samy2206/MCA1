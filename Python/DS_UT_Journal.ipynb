{
 "cells": [
  {
   "cell_type": "code",
   "execution_count": 16,
   "id": "a267cf99-3b0c-45ad-8ed5-4ef06da50ea3",
   "metadata": {},
   "outputs": [
    {
     "name": "stdout",
     "output_type": "stream",
     "text": [
      "array('i', [10, 20, 30, 40, 50])\n",
      "Array after updating: \n",
      "array('i', [10, 20, 90, 40, 50])\n",
      "After slicing array from 2nd position to 3rd position: \n",
      "array('i', [20, 90, 40])\n",
      "After extending array: \n",
      "array('i', [10, 20, 90, 40, 50, 60, 70, 80])\n",
      "After appending array: \n",
      "array('i', [10, 20, 90, 40, 50, 60, 70, 80, 100])\n",
      "After removing element: \n",
      "array('i', [10, 20, 90, 50, 60, 70, 80, 100])\n"
     ]
    }
   ],
   "source": [
    "#Create Array and perform the following operations:\n",
    "# a)Update array b)slice array element c)extend array d)append array e)remove element.\n",
    "import array as arr\n",
    "data = arr.array('i',[10,20,30,40,50])\n",
    "print(data)\n",
    "print(\"Array after updating: \")\n",
    "data[2] = 90\n",
    "print(data)\n",
    "print(\"After slicing array from 2nd position to 3rd position: \")\n",
    "print(data[1:4])\n",
    "print(\"After extending array: \")\n",
    "data.extend([60,70,80])\n",
    "print(data)\n",
    "print(\"After appending array: \")\n",
    "data.append(100)\n",
    "print(data)\n",
    "print(\"After removing element: \")\n",
    "data.remove(40)\n",
    "print(data)"
   ]
  },
  {
   "cell_type": "code",
   "execution_count": 24,
   "id": "8e2ee2d6-00d1-4588-b7f3-d8a51b225719",
   "metadata": {},
   "outputs": [
    {
     "name": "stdout",
     "output_type": "stream",
     "text": [
      "Enter the size of array:  3\n",
      "Enter the element at 0 position:  10\n",
      "Enter the element at 1 position:  20\n",
      "Enter the element at 2 position:  30\n"
     ]
    },
    {
     "name": "stdout",
     "output_type": "stream",
     "text": [
      "[10, 20, 30]\n"
     ]
    }
   ],
   "source": [
    "# Create an empty list, take size of list from user and append one\u0002one element in empty list.\n",
    "data=[]\n",
    "n = int(input(\"Enter the size of array: \"))\n",
    "for i in range(0,n):\n",
    "    data.append(int(input(f\"Enter the element at {i} position: \")))\n",
    "print(data)"
   ]
  },
  {
   "cell_type": "code",
   "execution_count": 46,
   "id": "8b26f77c-28cf-45ce-b148-048e8d4f6246",
   "metadata": {},
   "outputs": [
    {
     "name": "stdout",
     "output_type": "stream",
     "text": [
      "[34, 5, 67, 43, 5, 87, 89]\n",
      "list after updation: \n",
      "[34, 5, 90, 43, 5, 87, 89]\n",
      "The element 5 is occured 2 Times\n",
      "list after sorting: \n",
      "[5, 5, 34, 43, 87, 89, 90]\n",
      "Inserting element 45 at position 4\n",
      "[5, 5, 34, 45, 43, 87, 89, 90]\n",
      "After appending the list\n",
      "[5, 5, 34, 45, 43, 87, 89, 90, 100]\n",
      "After extending the list with 3 elements\n",
      "[5, 5, 34, 45, 43, 87, 89, 90, 100, 4, 5, 6]\n",
      "After popping last element\n",
      "[5, 5, 34, 45, 43, 87, 89, 90, 100, 4, 5]\n"
     ]
    }
   ],
   "source": [
    "# Create a list and perform following operations:\n",
    "# a)update b)count c)sort d)insert e)append f)extend g)pop\n",
    "data = [34,5,67,43,5,87,89]\n",
    "print(data)\n",
    "print(\"list after updation: \")\n",
    "data[2]=90\n",
    "print(data)\n",
    "print(\"The element 5 is occured\",data.count(5),\"Times\")\n",
    "print(\"list after sorting: \")\n",
    "data.sort()\n",
    "print(data)\n",
    "print(\"Inserting element 45 at position 4\")\n",
    "data.insert(3,45)\n",
    "print(data)\n",
    "print(\"After appending the list\")\n",
    "data.append(100)\n",
    "print(data)\n",
    "print(\"After extending the list with 3 elements\")\n",
    "data.extend([4,5,6])\n",
    "print(data)\n",
    "print(\"After popping last element\")\n",
    "data.pop()\n",
    "print(data)"
   ]
  },
  {
   "cell_type": "code",
   "execution_count": 1,
   "id": "12321792-fcb0-4945-858d-200f6932c5f5",
   "metadata": {},
   "outputs": [
    {
     "name": "stdout",
     "output_type": "stream",
     "text": [
      "Enter the employee id:  100\n",
      "Enter the employee name:  Sanket\n",
      "Enter the employee qualification:  MCA\n",
      "Enter the employee designation:  Senior Software Engineer\n",
      "Enter the employee salary:  100000\n",
      "Enter the employee's current month rank:  5\n"
     ]
    },
    {
     "name": "stdout",
     "output_type": "stream",
     "text": [
      "Id= 100\n",
      "Name= Sanket\n",
      "Qualification= MCA\n",
      "Designation= Senior Software Engineer\n",
      "Salary= 100000\n",
      "Current month rank= 5\n",
      "New salary of employee Sanket is : 102500\n"
     ]
    }
   ],
   "source": [
    "# Create function Employee details with user define data like\n",
    "# empid, empname, empqualification, empdesignation, empsalary,\n",
    "# emp_currentmonthrank. If current month rank is >4 than add \n",
    "# incentive Rs.2500 in salary.\n",
    "def emp_details():\n",
    "    emp_id=int(input(\"Enter the employee id: \"))\n",
    "    emp_name=(input(\"Enter the employee name: \"))\n",
    "    emp_qualification=(input(\"Enter the employee qualification: \"))\n",
    "    emp_designation=(input(\"Enter the employee designation: \"))\n",
    "    emp_salary=int(input(\"Enter the employee salary: \"))\n",
    "    emp_currentmonthrank=int(input(\"Enter the employee's current month rank: \"))\n",
    "    print(\"-------------------------------------------------------------------\")\n",
    "    print(\"Id=\",emp_id)\n",
    "    print(\"Name=\",emp_name)\n",
    "    print(\"Qualification=\",emp_qualification)\n",
    "    print(\"Designation=\",emp_designation)\n",
    "    print(\"Salary=\",emp_salary)\n",
    "    print(\"Current month rank=\",emp_currentmonthrank)\n",
    "    if emp_currentmonthrank>4:\n",
    "        emp_salary=emp_salary+2500\n",
    "        print(f\"New salary of employee {emp_name} is :\",emp_salary)\n",
    "    else:\n",
    "        print(\"Salary=\",emp_salary)\n",
    "\n",
    "emp_details()"
   ]
  },
  {
   "cell_type": "code",
   "execution_count": 4,
   "id": "0d2ed592-3914-468d-a421-c34eedfca5ae",
   "metadata": {},
   "outputs": [
    {
     "ename": "ValueError",
     "evalue": "invalid literal for int() with base 10: ''",
     "output_type": "error",
     "traceback": [
      "\u001b[1;31m---------------------------------------------------------------------------\u001b[0m",
      "\u001b[1;31mValueError\u001b[0m                                Traceback (most recent call last)",
      "Cell \u001b[1;32mIn[4], line 31\u001b[0m\n\u001b[0;32m     28\u001b[0m         \u001b[38;5;28mprint\u001b[39m(\u001b[38;5;124m\"\u001b[39m\u001b[38;5;124mAddress: \u001b[39m\u001b[38;5;124m\"\u001b[39m,\u001b[38;5;28mself\u001b[39m\u001b[38;5;241m.\u001b[39mAddress)\n\u001b[0;32m     29\u001b[0m         \u001b[38;5;28mprint\u001b[39m(\u001b[38;5;124m\"\u001b[39m\u001b[38;5;124m--------------------------------------------\u001b[39m\u001b[38;5;124m\"\u001b[39m)\n\u001b[1;32m---> 31\u001b[0m pizza\u001b[38;5;241m=\u001b[39mPizza_order_management_system()\n\u001b[0;32m     32\u001b[0m pizza\u001b[38;5;241m.\u001b[39mprintBill()\n",
      "Cell \u001b[1;32mIn[4], line 12\u001b[0m, in \u001b[0;36mPizza_order_management_system.__init__\u001b[1;34m(self)\u001b[0m\n\u001b[0;32m     10\u001b[0m \u001b[38;5;28mself\u001b[39m\u001b[38;5;241m.\u001b[39mpizza_Name\u001b[38;5;241m=\u001b[39m\u001b[38;5;28minput\u001b[39m(\u001b[38;5;124m\"\u001b[39m\u001b[38;5;124mEnter Name of pizza: \u001b[39m\u001b[38;5;124m\"\u001b[39m)\n\u001b[0;32m     11\u001b[0m \u001b[38;5;28mself\u001b[39m\u001b[38;5;241m.\u001b[39mpizza_Type\u001b[38;5;241m=\u001b[39m\u001b[38;5;28minput\u001b[39m(\u001b[38;5;124m\"\u001b[39m\u001b[38;5;124mEnter pizza type -> 1)Small 2)Extra 3)Large 4)Extra Large\u001b[39m\u001b[38;5;130;01m\\n\u001b[39;00m\u001b[38;5;124m\"\u001b[39m)\n\u001b[1;32m---> 12\u001b[0m \u001b[38;5;28mself\u001b[39m\u001b[38;5;241m.\u001b[39mpizza_Price\u001b[38;5;241m=\u001b[39m\u001b[38;5;28mint\u001b[39m(\u001b[38;5;28minput\u001b[39m(\u001b[38;5;124m\"\u001b[39m\u001b[38;5;124mEnter Price of pizza: \u001b[39m\u001b[38;5;124m\"\u001b[39m))\n\u001b[0;32m     13\u001b[0m \u001b[38;5;28mself\u001b[39m\u001b[38;5;241m.\u001b[39mQuantity\u001b[38;5;241m=\u001b[39m\u001b[38;5;28mint\u001b[39m(\u001b[38;5;28minput\u001b[39m(\u001b[38;5;124m\"\u001b[39m\u001b[38;5;124mEnter quantity: \u001b[39m\u001b[38;5;124m\"\u001b[39m))\n\u001b[0;32m     14\u001b[0m \u001b[38;5;28mself\u001b[39m\u001b[38;5;241m.\u001b[39mAddress\u001b[38;5;241m=\u001b[39m\u001b[38;5;28minput\u001b[39m(\u001b[38;5;124m\"\u001b[39m\u001b[38;5;124mEnter address for delivery: \u001b[39m\u001b[38;5;124m\"\u001b[39m)\n",
      "\u001b[1;31mValueError\u001b[0m: invalid literal for int() with base 10: ''"
     ]
    }
   ],
   "source": [
    "# Create class Pizza_order_management_system with the class \n",
    "# attributes like ordered, Pizza_order, Pizza_type, Quantity,\n",
    "# Address, Distance_Kilometer. If the customer distance kilometer \n",
    "# is greater than 3.5 than Rs 45 will the extra charge will be added \n",
    "# in bill.Print bill details in printBill()\n",
    "class Pizza_order_management_system():\n",
    "    def __init__(self):\n",
    "        self.cust_Name=input(\"Enter customer name: \")\n",
    "        self.cust_MoNo=input(\"Enter customer Mo No:\")\n",
    "        self.pizza_Name=input(\"Enter Name of pizza: \")\n",
    "        self.pizza_Type=input(\"Enter pizza type -> 1)Small 2)Extra 3)Large 4)Extra Large\\n\")\n",
    "        self.pizza_Price=int(input(\"Enter Price of pizza: \"))\n",
    "        self.Quantity=int(input(\"Enter quantity: \"))\n",
    "        self.Address=input(\"Enter address for delivery: \")\n",
    "        self.distance_Km=int(input(\"Enter the distance in Kilometer: \"))\n",
    "\n",
    "    def printBill(self):\n",
    "        self.Total=self.pizza_Price*self.Quantity\n",
    "        if self.distance_Km>3.5:\n",
    "            self.dist=self.distance_Km-3.5\n",
    "            self.Total=self.Total+45*round(self.dist)\n",
    "        print(\"\\n\\n\\n\")\n",
    "        print(\"--------------------------------------------\")\n",
    "        print(self.cust_Name)\n",
    "        print(self.cust_MoNo)\n",
    "        print(\"Order_>  \",self.pizza_Name,\"        \",self.pizza_Type)\n",
    "        print(\"Total-> \",self.pizza_Price,\" *  \",self.Quantity,\"   =   \",self.Total)\n",
    "        print(\"Address: \",self.Address)\n",
    "        print(\"--------------------------------------------\")\n",
    "\n",
    "pizza=Pizza_order_management_system()\n",
    "pizza.printBill()"
   ]
  },
  {
   "cell_type": "code",
   "execution_count": 2,
   "id": "68ed7ec7-72d5-4837-a155-a0f5c0e43a8e",
   "metadata": {},
   "outputs": [
    {
     "name": "stdout",
     "output_type": "stream",
     "text": [
      "20-->10-->30-->40-->None\n"
     ]
    }
   ],
   "source": [
    "# Create Singly linked list and perform the following operations:\n",
    "# a)Insert from start b)Insert from end c)traverse\n",
    "class Node():\n",
    "    def __init__(self,data):    #Create a new Node\n",
    "        self.data=data\n",
    "        self.next=None\n",
    "class LinkedList():\n",
    "    def __init__(self):          #Define head and tail\n",
    "        self.head=None\n",
    "        self.tail=None\n",
    "    def insert_beg(self,data):         #Insert at beginning\n",
    "        newNode=Node(data)\n",
    "        if self.head==None:\n",
    "            self.head=self.tail=newNode\n",
    "        else:\n",
    "            newNode.next=self.head\n",
    "            self.head=newNode\n",
    "    def insert_end(self,data):           #Insert at End\n",
    "        newNode=Node(data)\n",
    "        if self.head==None:\n",
    "            self.head=self.tail=newNode\n",
    "        else:\n",
    "            self.tail.next=newNode\n",
    "            self.tail=newNode\n",
    "    def display(self):             #Traverse the linked list\n",
    "        traverse=self.head\n",
    "        while traverse!=None:\n",
    "            print(traverse.data,end=\"-->\")\n",
    "            traverse=traverse.next\n",
    "        print(\"None\")\n",
    "\n",
    "ll=LinkedList()\n",
    "ll.insert_beg(10)\n",
    "ll.insert_beg(20)\n",
    "ll.insert_end(30)\n",
    "ll.insert_end(40)\n",
    "ll.display()"
   ]
  },
  {
   "cell_type": "code",
   "execution_count": 3,
   "id": "4faf5367-7ac1-42dd-9151-e2a5608b11ee",
   "metadata": {},
   "outputs": [
    {
     "name": "stdout",
     "output_type": "stream",
     "text": [
      "10-->20-->30-->None\n",
      "After inserting 100 at position 2nd\n",
      "10-->100-->20-->30-->None\n"
     ]
    }
   ],
   "source": [
    "# Create Singly linked list and perform the following operations:\n",
    "# a)Insert from specific position b)traverse\n",
    "class Node():\n",
    "    def __init__(self,data):    #Create a new Node\n",
    "        self.data=data\n",
    "        self.next=None\n",
    "class LinkedList():\n",
    "    def __init__(self):          #Define head and tail\n",
    "        self.head=None\n",
    "        self.tail=None\n",
    "    def insert_beg(self,data):         #Insert at beginning\n",
    "        newNode=Node(data)\n",
    "        if self.head==None:\n",
    "            self.head=self.tail=newNode\n",
    "        else:\n",
    "            newNode.next=self.head\n",
    "            self.head=newNode\n",
    "\n",
    "    def insert_spec_loc(self,data,loc):         #Insert at specific position\n",
    "        cNode=self.head\n",
    "        cLoc=1\n",
    "        newNode=Node(data)\n",
    "        if self.head==None:\n",
    "            self.head=self.tail=newNode\n",
    "        elif loc==1:\n",
    "            newNode.next=self.head\n",
    "            self.head=newNode\n",
    "        else:\n",
    "            while cNode.next!=None and cLoc<loc-1:\n",
    "                cNode=cNode.next\n",
    "                cLoc=cLoc+1\n",
    "            newNode.next=cNode.next\n",
    "            cNode.next=newNode\n",
    "            \n",
    "    def display(self):             #Traverse the linked list\n",
    "        traverse=self.head\n",
    "        while traverse!=None:\n",
    "            print(traverse.data,end=\"-->\")\n",
    "            traverse=traverse.next\n",
    "        print(\"None\")\n",
    "\n",
    "ll=LinkedList()\n",
    "ll.insert_beg(30)\n",
    "ll.insert_beg(20)\n",
    "ll.insert_beg(10)\n",
    "ll.display()\n",
    "print(\"After inserting 100 at position 2nd\")\n",
    "ll.insert_spec_loc(100,2)\n",
    "ll.display()"
   ]
  },
  {
   "cell_type": "code",
   "execution_count": null,
   "id": "2efa5255-cde7-452c-851a-22ca7c7dca41",
   "metadata": {},
   "outputs": [],
   "source": []
  }
 ],
 "metadata": {
  "kernelspec": {
   "display_name": "base",
   "language": "python",
   "name": "python3"
  },
  "language_info": {
   "codemirror_mode": {
    "name": "ipython",
    "version": 3
   },
   "file_extension": ".py",
   "mimetype": "text/x-python",
   "name": "python",
   "nbconvert_exporter": "python",
   "pygments_lexer": "ipython3",
   "version": "3.12.4"
  }
 },
 "nbformat": 4,
 "nbformat_minor": 5
}
