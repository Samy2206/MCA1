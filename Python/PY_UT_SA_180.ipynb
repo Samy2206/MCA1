{
 "cells": [
  {
   "cell_type": "code",
   "execution_count": 3,
   "metadata": {},
   "outputs": [
    {
     "ename": "ValueError",
     "evalue": "invalid literal for int() with base 10: ''",
     "output_type": "error",
     "traceback": [
      "\u001b[1;31m---------------------------------------------------------------------------\u001b[0m",
      "\u001b[1;31mValueError\u001b[0m                                Traceback (most recent call last)",
      "Cell \u001b[1;32mIn[3], line 17\u001b[0m\n\u001b[0;32m     15\u001b[0m         grossPay\u001b[38;5;241m=\u001b[39mnetPay\u001b[38;5;241m-\u001b[39mPF\n\u001b[0;32m     16\u001b[0m         \u001b[38;5;28mprint\u001b[39m(\u001b[38;5;124m\"\u001b[39m\u001b[38;5;124mGross Pay = \u001b[39m\u001b[38;5;124m\"\u001b[39m,grossPay)\n\u001b[1;32m---> 17\u001b[0m sal \u001b[38;5;241m=\u001b[39m \u001b[38;5;28mint\u001b[39m(\u001b[38;5;28minput\u001b[39m(\u001b[38;5;124m\"\u001b[39m\u001b[38;5;124mEnter the base salary: \u001b[39m\u001b[38;5;124m\"\u001b[39m))\n\u001b[0;32m     18\u001b[0m s\u001b[38;5;241m=\u001b[39msalary(sal)\n",
      "\u001b[1;31mValueError\u001b[0m: invalid literal for int() with base 10: ''"
     ]
    }
   ],
   "source": [
    "# Write a program to create list for basic salary of employee and \n",
    "# calculate the gross salary of an employee for following allowance \n",
    "# and deduction. \n",
    "# DA=25%, HRA=15%, PF=12%,TA=7,50% \n",
    "# Net Pay=basic+DA+HRA+TA \n",
    "# Gross Pay=Net Pay-PF\n",
    "class salary():\n",
    "    def __init__(self,salary):\n",
    "        DA=0.25*salary\n",
    "        HRA=0.15*salary\n",
    "        PF=0.12*salary\n",
    "        TA=0.075*salary\n",
    "        netPay=salary+DA+HRA+TA         #Net Pay\n",
    "        print(\"Net Pay = \",netPay)\n",
    "        grossPay=netPay-PF\n",
    "        print(\"Gross Pay = \",grossPay)\n",
    "sal = int(input(\"Enter the base salary: \"))\n",
    "s=salary(sal)\n"
   ]
  },
  {
   "cell_type": "code",
   "execution_count": 13,
   "metadata": {},
   "outputs": [
    {
     "name": "stdout",
     "output_type": "stream",
     "text": [
      "Accessing string in forward direction\n",
      "P y t h o n \n",
      "Accessing string in backward direction\n",
      "n o h t y P "
     ]
    }
   ],
   "source": [
    "#program 6\n",
    "str1=\"Python\"\n",
    "print(\"Accessing string in forward direction\")\n",
    "for i in str1:\n",
    "    print(i,end=\" \")\n",
    "print(\"\\nAccessing string in backward direction\")\n",
    "for i in str1[::-1]:\n",
    "    print(i,end=\" \")"
   ]
  },
  {
   "cell_type": "code",
   "execution_count": 4,
   "metadata": {},
   "outputs": [
    {
     "name": "stdout",
     "output_type": "stream",
     "text": [
      "Sum =  60\n"
     ]
    }
   ],
   "source": [
    "#program 7\n",
    "n=0\n",
    "sum=0\n",
    "while n>=0:\n",
    "    sum=sum+n\n",
    "    n=int(input(\"Enter the number: \"))\n",
    "print(\"Sum = \",sum)"
   ]
  },
  {
   "cell_type": "code",
   "execution_count": 19,
   "metadata": {},
   "outputs": [
    {
     "name": "stdout",
     "output_type": "stream",
     "text": [
      "Enter three numbers sperated with space:  10 20 30\n"
     ]
    },
    {
     "name": "stdout",
     "output_type": "stream",
     "text": [
      "Largest Number is:  30\n"
     ]
    }
   ],
   "source": [
    "#program8\n",
    "a,b,c=[int(x) for x in (input(\"Enter three numbers sperated with space: \").split())]\n",
    "print(\"Largest Number is: \",a if a>c else c if a>b else b if b>c else c)"
   ]
  },
  {
   "cell_type": "code",
   "execution_count": 32,
   "metadata": {},
   "outputs": [
    {
     "name": "stdout",
     "output_type": "stream",
     "text": [
      "e a i o "
     ]
    }
   ],
   "source": [
    "#program9\n",
    "vovels=['a','e','i','o','u']\n",
    "data=\"learning Python\"\n",
    "for i in data:\n",
    "    if i in vovels:\n",
    "        print(i,end=\" \")"
   ]
  },
  {
   "cell_type": "code",
   "execution_count": 21,
   "metadata": {},
   "outputs": [
    {
     "name": "stdout",
     "output_type": "stream",
     "text": [
      "Enter value of name:  sam\n",
      "Enter value of age:  21\n",
      "Enter value of city:  Pune\n",
      "Enter value of is_students:  Yes\n"
     ]
    },
    {
     "name": "stdout",
     "output_type": "stream",
     "text": [
      "{'name': 'sam', 'age': '21', 'city': 'Pune', 'is_students': 'Yes'}\n"
     ]
    }
   ],
   "source": [
    "key=['name','age','city','is_students']\n",
    "s={}\n",
    "for k in key:\n",
    "   s[k]=input(f\"Enter value of {k}: \") \n",
    "print(s)"
   ]
  },
  {
   "cell_type": "code",
   "execution_count": null,
   "metadata": {},
   "outputs": [],
   "source": []
  }
 ],
 "metadata": {
  "kernelspec": {
   "display_name": "base",
   "language": "python",
   "name": "python3"
  },
  "language_info": {
   "codemirror_mode": {
    "name": "ipython",
    "version": 3
   },
   "file_extension": ".py",
   "mimetype": "text/x-python",
   "name": "python",
   "nbconvert_exporter": "python",
   "pygments_lexer": "ipython3",
   "version": "3.12.4"
  }
 },
 "nbformat": 4,
 "nbformat_minor": 4
}
