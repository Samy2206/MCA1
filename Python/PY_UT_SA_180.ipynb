{
 "cells": [
  {
   "cell_type": "code",
   "execution_count": 11,
   "metadata": {},
   "outputs": [
    {
     "name": "stdin",
     "output_type": "stream",
     "text": [
      "Enter the base salary:  100000\n"
     ]
    },
    {
     "name": "stdout",
     "output_type": "stream",
     "text": [
      "Net Pay =  147500.0\n",
      "Gross Pay =  135500.0\n"
     ]
    }
   ],
   "source": [
    "# Write a program to create list for basic salary of employee and \n",
    "# calculate the gross salary of an employee for following allowance \n",
    "# and deduction. \n",
    "# DA=25%, HRA=15%, PF=12%,TA=7,50% \n",
    "# Net Pay=basic+DA+HRA+TA \n",
    "# Gross Pay=Net Pay-PF\n",
    "class salary():\n",
    "    def __init__(self,salary):\n",
    "        DA=0.25*salary\n",
    "        HRA=0.15*salary\n",
    "        PF=0.12*salary\n",
    "        TA=0.075*salary\n",
    "        netPay=salary+DA+HRA+TA         #Net Pay\n",
    "        print(\"Net Pay = \",netPay)\n",
    "        grossPay=netPay-PF\n",
    "        print(\"Gross Pay = \",grossPay)\n",
    "sal = int(input(\"Enter the base salary: \"))\n",
    "s=salary(sal)\n"
   ]
  },
  {
   "cell_type": "code",
   "execution_count": 13,
   "metadata": {},
   "outputs": [
    {
     "name": "stdout",
     "output_type": "stream",
     "text": [
      "Accessing string in forward direction\n",
      "P y t h o n \n",
      "Accessing string in backward direction\n",
      "n o h t y P "
     ]
    }
   ],
   "source": [
    "#program 6\n",
    "str1=\"Python\"\n",
    "print(\"Accessing string in forward direction\")\n",
    "for i in str1:\n",
    "    print(i,end=\" \")\n",
    "print(\"\\nAccessing string in backward direction\")\n",
    "for i in str1[::-1]:\n",
    "    print(i,end=\" \")"
   ]
  },
  {
   "cell_type": "code",
   "execution_count": 25,
   "metadata": {},
   "outputs": [
    {
     "name": "stdin",
     "output_type": "stream",
     "text": [
      "Enter the number:  10\n",
      "Enter the number:  20\n",
      "Enter the number:  30\n",
      "Enter the number:  40\n",
      "Enter the number:  -1\n"
     ]
    },
    {
     "name": "stdout",
     "output_type": "stream",
     "text": [
      "Sum =  100\n"
     ]
    }
   ],
   "source": [
    "#program 7\n",
    "n=0\n",
    "sum=0\n",
    "while n>=0:\n",
    "    sum=sum+n\n",
    "    n=int(input(\"Enter the number: \"))\n",
    "print(\"Sum = \",sum)"
   ]
  },
  {
   "cell_type": "code",
   "execution_count": 19,
   "metadata": {},
   "outputs": [
    {
     "name": "stdin",
     "output_type": "stream",
     "text": [
      "Enter three numbers sperated with space:  10 20 30\n"
     ]
    },
    {
     "name": "stdout",
     "output_type": "stream",
     "text": [
      "Largest Number is:  30\n"
     ]
    }
   ],
   "source": [
    "#program8\n",
    "a,b,c=[int(x) for x in (input(\"Enter three numbers sperated with space: \").split())]\n",
    "print(\"Largest Number is: \",a if a>c else c if a>b else b if b>c else c)"
   ]
  },
  {
   "cell_type": "code",
   "execution_count": 32,
   "metadata": {},
   "outputs": [
    {
     "name": "stdout",
     "output_type": "stream",
     "text": [
      "e a i o "
     ]
    }
   ],
   "source": [
    "#program9\n",
    "vovels=['a','e','i','o','u']\n",
    "data=\"learning Python\"\n",
    "for i in data:\n",
    "    if i in vovels:\n",
    "        print(i,end=\" \")"
   ]
  },
  {
   "cell_type": "code",
   "execution_count": 21,
   "metadata": {},
   "outputs": [
    {
     "name": "stdin",
     "output_type": "stream",
     "text": [
      "Enter value of name:  sam\n",
      "Enter value of age:  21\n",
      "Enter value of city:  Pune\n",
      "Enter value of is_students:  Yes\n"
     ]
    },
    {
     "name": "stdout",
     "output_type": "stream",
     "text": [
      "{'name': 'sam', 'age': '21', 'city': 'Pune', 'is_students': 'Yes'}\n"
     ]
    }
   ],
   "source": [
    "key=['name','age','city','is_students']\n",
    "s={}\n",
    "for k in key:\n",
    "   s[k]=input(f\"Enter value of {k}: \") \n",
    "print(s)"
   ]
  },
  {
   "cell_type": "code",
   "execution_count": null,
   "metadata": {},
   "outputs": [],
   "source": []
  }
 ],
 "metadata": {
  "kernelspec": {
   "display_name": "Python 3 (ipykernel)",
   "language": "python",
   "name": "python3"
  },
  "language_info": {
   "codemirror_mode": {
    "name": "ipython",
    "version": 3
   },
   "file_extension": ".py",
   "mimetype": "text/x-python",
   "name": "python",
   "nbconvert_exporter": "python",
   "pygments_lexer": "ipython3",
   "version": "3.12.4"
  }
 },
 "nbformat": 4,
 "nbformat_minor": 4
}
