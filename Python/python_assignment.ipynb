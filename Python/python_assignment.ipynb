{
 "cells": [
  {
   "cell_type": "code",
   "execution_count": 3,
   "metadata": {},
   "outputs": [
    {
     "name": "stdout",
     "output_type": "stream",
     "text": [
      "\n",
      "List:\n",
      "10,20,30,40,50\n",
      "\n",
      "Tuple:\n",
      "10,20,30,40,50\n",
      "\n",
      "Dictionary:\n",
      "name: sam\n",
      "age: 21\n",
      "student: yes\n"
     ]
    }
   ],
   "source": [
    "# write a program to take user input for list,tuples and dictionary and display using for loop\n",
    "user_list = input(\"Enter elements for the list, separated by spaces: \").split()\n",
    "user_tuple = tuple(input(\"Enter elements for the tuple, separated by spaces: \").split())\n",
    "user_dict = {}\n",
    "num_items = int(input(\"Enter the number of items for the dictionary: \"))\n",
    "for _ in range(num_items):\n",
    "    key = input(\"Enter key: \")\n",
    "    value = input(\"Enter value: \")\n",
    "    user_dict[key] = value\n",
    "\n",
    "print(\"\\nList:\")\n",
    "for item in user_list:\n",
    "    print(item)\n",
    "\n",
    "print(\"\\nTuple:\")\n",
    "for item in user_tuple:\n",
    "    print(item)\n",
    "\n",
    "print(\"\\nDictionary:\")\n",
    "for key, value in user_dict.items():\n",
    "    print(f\"{key}: {value}\",end=' ')"
   ]
  },
  {
   "cell_type": "code",
   "execution_count": 6,
   "metadata": {},
   "outputs": [
    {
     "name": "stdout",
     "output_type": "stream",
     "text": [
      "After removing vovels from the string:\n",
      "\n",
      "['s', 'm']\n"
     ]
    }
   ],
   "source": [
    "# Write a program that accept the string from user and display the same string\n",
    "# after removing vowels from it.\n",
    "data=input(\"Enter a string: \")\n",
    "vovels=['a','e','i','o','u']\n",
    "result=[x for x in data if x not in vovels]\n",
    "\n",
    "print(\"After removing vovels from the string:\\n\")\n",
    "print(result)"
   ]
  },
  {
   "cell_type": "code",
   "execution_count": 6,
   "metadata": {},
   "outputs": [
    {
     "name": "stdout",
     "output_type": "stream",
     "text": [
      "['a', 'b', ['c', ['d', 'e', ['f', 'g', 'h', 'i', 'j'], 'k'], 'l'], 'm', 'n']\n"
     ]
    }
   ],
   "source": [
    "#program 3\n",
    "list1=['a','b',['c',['d','e',['f','g'],'k'],'l'],'m','n']\n",
    "print(\"Original list\")\n",
    "sublist=['h','i','j']\n",
    "list1[2][1][2].extend(sublist)\n",
    "print(list1)"
   ]
  },
  {
   "cell_type": "code",
   "execution_count": 9,
   "metadata": {},
   "outputs": [
    {
     "name": "stdout",
     "output_type": "stream",
     "text": [
      "Enter the number: 12\n",
      "The number is between 1-100\n"
     ]
    }
   ],
   "source": [
    "#program 4\n",
    "num = int(input(\"Enter the number: \"))\n",
    "if 0<num<=100:\n",
    "    print(\"The number is between 1-100\")\n",
    "else:\n",
    "    print(\"The number is not between 1-100\")"
   ]
  },
  {
   "cell_type": "code",
   "execution_count": 10,
   "metadata": {},
   "outputs": [
    {
     "name": "stdout",
     "output_type": "stream",
     "text": [
      "['apple', 'pineapple', 'mango', 'strawberry']\n",
      "After Adding new fruit\n",
      "['apple', 'pineapple', 'mango', 'strawberry', 'orange']\n",
      "After sorting the list\n",
      "['apple', 'mango', 'orange', 'pineapple', 'strawberry']\n",
      "After removing last element\n",
      "['apple', 'mango', 'orange', 'pineapple']\n"
     ]
    }
   ],
   "source": [
    "#program 5\n",
    "fruits=['apple','pineapple','mango','strawberry']\n",
    "print(fruits)\n",
    "print(\"After Adding new fruit\")\n",
    "fruits.append('orange')\n",
    "print(fruits)\n",
    "print(\"After sorting the list\")\n",
    "fruits.sort()\n",
    "print(fruits)\n",
    "print(\"After removing last element\")\n",
    "fruits.pop()\n",
    "print(fruits)"
   ]
  },
  {
   "cell_type": "code",
   "execution_count": 14,
   "metadata": {
    "scrolled": true
   },
   "outputs": [
    {
     "name": "stdout",
     "output_type": "stream",
     "text": [
      "Enter three numbers saperated with space: 53545 333 242435\n",
      "Largest number is :  242435\n"
     ]
    }
   ],
   "source": [
    "#program 6\n",
    "a,b,c=[int(x) for x in input(\"Enter three numbers saperated with space: \").split()]\n",
    "res=  a if a>b and a>c else b if b>c else c\n",
    "print(\"Largest number is : \",res)"
   ]
  },
  {
   "cell_type": "code",
   "execution_count": null,
   "metadata": {},
   "outputs": [],
   "source": []
  }
 ],
 "metadata": {
  "kernelspec": {
   "display_name": "Python 3",
   "language": "python",
   "name": "python3"
  },
  "language_info": {
   "codemirror_mode": {
    "name": "ipython",
    "version": 3
   },
   "file_extension": ".py",
   "mimetype": "text/x-python",
   "name": "python",
   "nbconvert_exporter": "python",
   "pygments_lexer": "ipython3",
   "version": "3.7.1"
  }
 },
 "nbformat": 4,
 "nbformat_minor": 2
}
